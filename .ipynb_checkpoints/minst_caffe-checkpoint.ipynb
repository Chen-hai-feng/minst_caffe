{
 "cells": [
  {
   "cell_type": "code",
   "execution_count": 2,
   "metadata": {
    "collapsed": false
   },
   "outputs": [
    {
     "name": "stdout",
     "output_type": "stream",
     "text": [
      "train_list:E:\\wyc\\kaggle\\minst\\mnist\\train/train.txt\n"
     ]
    }
   ],
   "source": [
    "import caffe\n",
    "from caffe import layers as L,params as P,proto,to_proto\n",
    "import glob\n",
    "import sys \n",
    "import os\n",
    "\n",
    "base_dir = os.getcwd()\n",
    "\n",
    "sys.path.append(base_dir)                                    #根目录\n",
    "train_list = os.path.join(base_dir, 'train/train.txt') #训练图片列表\n",
    "test_list = os.path.join(base_dir, 'test/test.txt')    #测试图片列表\n",
    "train_proto = os.path.join(base_dir, 'train.prototxt') #训练配置文件\n",
    "test_proto = os.path.join(base_dir, 'test.prototxt')  #训练配置文件\n",
    "solver_proto = os.path.join(base_dir, 'solver.prototxt') #参数文件\n",
    "\n",
    "print \"train_list:%s\" % train_list\n"
   ]
  },
  {
   "cell_type": "code",
   "execution_count": 2,
   "metadata": {
    "collapsed": true
   },
   "outputs": [],
   "source": [
    "#编写一个函数，生成配置文件prototxt\n",
    "def Lenet(img_list,batch_size,include_acc=False):\n",
    "    #第一层，数据输入层，以ImageData格式输入\n",
    "    data, label = L.ImageData(source=img_list, batch_size=batch_size, ntop=2,root_folder=base_dir,\n",
    "        transform_param=dict(scale= 0.00390625))\n",
    "    #第二层：卷积层\n",
    "    conv1=L.Convolution(data, kernel_size=5, stride=1,num_output=20, pad=0,weight_filler=dict(type='xavier'))\n",
    "    #池化层\n",
    "    pool1=L.Pooling(conv1, pool=P.Pooling.MAX, kernel_size=2, stride=2)\n",
    "    #卷积层\n",
    "    conv2=L.Convolution(pool1, kernel_size=5, stride=1,num_output=50, pad=0,weight_filler=dict(type='xavier'))\n",
    "    #池化层\n",
    "    pool2=L.Pooling(conv2, pool=P.Pooling.MAX, kernel_size=2, stride=2)\n",
    "    #全连接层\n",
    "    fc3=L.InnerProduct(pool2, num_output=500,weight_filler=dict(type='xavier'))\n",
    "    #激活函数层\n",
    "    relu3=L.ReLU(fc3, in_place=True)\n",
    "    #全连接层\n",
    "    fc4 = L.InnerProduct(relu3, num_output=10,weight_filler=dict(type='xavier'))\n",
    "    #softmax层\n",
    "    loss = L.SoftmaxWithLoss(fc4, label)\n",
    "    \n",
    "    if include_acc:             # test阶段需要有accuracy层\n",
    "        acc = L.Accuracy(fc4, label)\n",
    "        return to_proto(loss, acc)\n",
    "    else:\n",
    "        return to_proto(loss)"
   ]
  },
  {
   "cell_type": "code",
   "execution_count": 3,
   "metadata": {
    "collapsed": true
   },
   "outputs": [],
   "source": [
    "#编写一个函数，生成参数文件\n",
    "def gen_solver(solver_file,train_net,test_net):\n",
    "    s=proto.caffe_pb2.SolverParameter()\n",
    "    s.train_net =train_net\n",
    "    s.test_net.append(test_net)\n",
    "    s.test_interval = 938    #60000/64，测试间隔参数：训练完一次所有的图片，进行一次测试  \n",
    "    s.test_iter.append(100)  #10000/100 测试迭代次数，需要迭代100次，才完成一次所有数据的测试\n",
    "    s.max_iter = 9380       #10 epochs , 938*10，最大训练次数\n",
    "    s.base_lr = 0.01    #基础学习率\n",
    "    s.momentum = 0.9    #动量\n",
    "    s.weight_decay = 5e-4  #权值衰减项\n",
    "    s.lr_policy = 'step'   #学习率变化规则\n",
    "    s.stepsize=3000         #学习率变化频率\n",
    "    s.gamma = 0.1          #学习率变化指数\n",
    "    s.display = 20         #屏幕显示间隔\n",
    "    s.snapshot = 938       #保存caffemodel的间隔\n",
    "    s.snapshot_prefix =base_dir+'/lenet'   #caffemodel前缀\n",
    "    s.type ='SGD'         #优化算法\n",
    "    s.solver_mode = proto.caffe_pb2.SolverParameter.GPU    #加速\n",
    "    #写入solver.prototxt\n",
    "    with open(solver_file, 'w') as f:\n",
    "        f.write(str(s))"
   ]
  },
  {
   "cell_type": "code",
   "execution_count": 4,
   "metadata": {
    "collapsed": true
   },
   "outputs": [],
   "source": [
    "def write_net():\n",
    "    #写入train.prototxt\n",
    "    with open(train_proto, 'w') as f:\n",
    "        f.write(str(Lenet(train_list,batch_size=64)))\n",
    "\n",
    "    #写入test.prototxt    \n",
    "    with open(test_proto, 'w') as f:\n",
    "        f.write(str(Lenet(test_list,batch_size=100, include_acc=True)))"
   ]
  },
  {
   "cell_type": "code",
   "execution_count": 5,
   "metadata": {
    "collapsed": true
   },
   "outputs": [],
   "source": [
    "#开始训练\n",
    "def training(solver_proto):\n",
    "    caffe.set_device(0)\n",
    "    caffe.set_mode_gpu()\n",
    "    solver = caffe.SGDSolver(solver_proto)\n",
    "    solver.solve()"
   ]
  },
  {
   "cell_type": "code",
   "execution_count": 6,
   "metadata": {
    "collapsed": false
   },
   "outputs": [],
   "source": [
    "write_net()\n",
    "gen_solver(solver_proto,train_proto,test_proto) \n",
    "training(solver_proto)"
   ]
  },
  {
   "cell_type": "code",
   "execution_count": null,
   "metadata": {
    "collapsed": true
   },
   "outputs": [],
   "source": []
  },
  {
   "cell_type": "code",
   "execution_count": null,
   "metadata": {
    "collapsed": true
   },
   "outputs": [],
   "source": []
  }
 ],
 "metadata": {
  "kernelspec": {
   "display_name": "Python 2",
   "language": "python",
   "name": "python2"
  },
  "language_info": {
   "codemirror_mode": {
    "name": "ipython",
    "version": 2
   },
   "file_extension": ".py",
   "mimetype": "text/x-python",
   "name": "python",
   "nbconvert_exporter": "python",
   "pygments_lexer": "ipython2",
   "version": "2.7.11"
  }
 },
 "nbformat": 4,
 "nbformat_minor": 0
}
